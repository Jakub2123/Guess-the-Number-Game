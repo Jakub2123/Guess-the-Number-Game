{
 "cells": [
  {
   "cell_type": "code",
   "execution_count": 2,
   "id": "b28a7343",
   "metadata": {},
   "outputs": [],
   "source": [
    "from random import randint"
   ]
  },
  {
   "cell_type": "code",
   "execution_count": 35,
   "id": "fced59a9",
   "metadata": {},
   "outputs": [],
   "source": [
    "resoult=randint(1,20)"
   ]
  },
  {
   "cell_type": "code",
   "execution_count": 52,
   "id": "f3e2c5f1",
   "metadata": {},
   "outputs": [
    {
     "name": "stdout",
     "output_type": "stream",
     "text": [
      "Podaj Liczbę w przedziale 1-20: 1\n",
      "Za mała!\n",
      "Podaj Liczbę w przedziale 1-20: 2\n",
      "Za mała!\n",
      "Podaj Liczbę w przedziale 1-20: 23\n",
      "Za duża!\n",
      "Podaj Liczbę w przedziale 1-20: 18\n",
      "Za mała!\n",
      "Podaj Liczbę w przedziale 1-20: 19\n",
      "Brawo!\n"
     ]
    }
   ],
   "source": [
    "line=input('Guess the number 1-20: ')\n",
    "number=int(line)\n",
    "\n",
    "while resoult!=number :\n",
    "    if number < resoult :\n",
    "        print(\"too low!\")\n",
    "    else:\n",
    "        print(\"too high!\")\n",
    "    line=input('Guess the number 1-20: ')\n",
    "    number=int(line)\n",
    "\n",
    "print(\"Congratulation!\")"
   ]
  }
 ],
 "metadata": {
  "kernelspec": {
   "display_name": "Python 3 (ipykernel)",
   "language": "python",
   "name": "python3"
  },
  "language_info": {
   "codemirror_mode": {
    "name": "ipython",
    "version": 3
   },
   "file_extension": ".py",
   "mimetype": "text/x-python",
   "name": "python",
   "nbconvert_exporter": "python",
   "pygments_lexer": "ipython3",
   "version": "3.9.12"
  }
 },
 "nbformat": 4,
 "nbformat_minor": 5
}
