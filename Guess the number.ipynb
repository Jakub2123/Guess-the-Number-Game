{
 "cells": [
  {
   "cell_type": "code",
   "execution_count": null,
   "id": "0ba68570",
   "metadata": {},
   "outputs": [],
   "source": [
    "from random import randint"
   ]
  },
  {
   "cell_type": "code",
   "execution_count": null,
   "id": "7a5f08da",
   "metadata": {},
   "outputs": [],
   "source": [
    "resoult=randint(1,20)"
   ]
  },
  {
   "cell_type": "code",
   "execution_count": null,
   "id": "6a45563b",
   "metadata": {},
   "outputs": [],
   "source": [
    "line=input('Guess the number 1-20: ')\n",
    "number=int(line)\n",
    "\n",
    "while resoult!=number :\n",
    "    if number < resoult :\n",
    "        print(\"too low!\")\n",
    "    else:\n",
    "        print(\"too high!\")\n",
    "    line=input('Guess the number 1-20: ')\n",
    "    number=int(line)\n",
    "\n",
    "print(\"Congratulation!\")"
   ]
  }
 ],
 "metadata": {
  "kernelspec": {
   "display_name": "Python 3 (ipykernel)",
   "language": "python",
   "name": "python3"
  },
  "language_info": {
   "codemirror_mode": {
    "name": "ipython",
    "version": 3
   },
   "file_extension": ".py",
   "mimetype": "text/x-python",
   "name": "python",
   "nbconvert_exporter": "python",
   "pygments_lexer": "ipython3",
   "version": "3.9.12"
  }
 },
 "nbformat": 4,
 "nbformat_minor": 5
}
